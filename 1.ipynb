{
  "cells": [
    {
      "cell_type": "code",
      "execution_count": null,
      "id": "4446481c-2a5c-412a-b72f-f9dcba51724c",
      "metadata": {
        "id": "4446481c-2a5c-412a-b72f-f9dcba51724c"
      },
      "outputs": [],
      "source": [
        "import psycopg2"
      ]
    },
    {
      "cell_type": "code",
      "execution_count": null,
      "id": "72e1e40b-0a8a-4a2b-bcc0-6267d92ea593",
      "metadata": {
        "id": "72e1e40b-0a8a-4a2b-bcc0-6267d92ea593"
      },
      "outputs": [],
      "source": [
        "connection = psycopg2.connect(user=\"postgres\",password=\"password\",host=\"127.0.0.1\",port=\"5100\",database=\"test\")"
      ]
    },
    {
      "cell_type": "code",
      "execution_count": null,
      "id": "f94c50a2-555c-4573-9d46-c36b4dcb6e9c",
      "metadata": {
        "id": "f94c50a2-555c-4573-9d46-c36b4dcb6e9c",
        "outputId": "34cd7002-2417-4dd8-de5a-59f32da132a6"
      },
      "outputs": [
        {
          "name": "stdout",
          "output_type": "stream",
          "text": [
            "PostgreSQL server information\n",
            "{'user': 'postgres', 'dbname': 'test', 'host': '127.0.0.1', 'port': '5432', 'tty': '', 'options': '', 'sslmode': 'prefer', 'sslcompression': '0', 'gssencmode': 'prefer', 'krbsrvname': 'postgres', 'target_session_attrs': 'any'} \n",
            "\n"
          ]
        }
      ],
      "source": [
        "# connection.autocommit = True\n",
        "cursor = connection.cursor()\n",
        "print(\"PostgreSQL server information\")\n",
        "print(connection.get_dsn_parameters(), \"\\n\")"
      ]
    },
    {
      "cell_type": "code",
      "execution_count": null,
      "id": "ed040209-f5c2-4d97-a566-1e70e6914395",
      "metadata": {
        "id": "ed040209-f5c2-4d97-a566-1e70e6914395",
        "outputId": "934eeff0-13cf-4d78-9bb0-0208d47a89ac"
      },
      "outputs": [
        {
          "data": {
            "text/html": [
              "<div>\n",
              "<style scoped>\n",
              "    .dataframe tbody tr th:only-of-type {\n",
              "        vertical-align: middle;\n",
              "    }\n",
              "\n",
              "    .dataframe tbody tr th {\n",
              "        vertical-align: top;\n",
              "    }\n",
              "\n",
              "    .dataframe thead th {\n",
              "        text-align: right;\n",
              "    }\n",
              "</style>\n",
              "<table border=\"1\" class=\"dataframe\">\n",
              "  <thead>\n",
              "    <tr style=\"text-align: right;\">\n",
              "      <th></th>\n",
              "      <th>DATE</th>\n",
              "      <th>TIME</th>\n",
              "      <th>PM/AM</th>\n",
              "      <th>HOME TEAM</th>\n",
              "      <th>AWAY TEAM</th>\n",
              "      <th>VENUE</th>\n",
              "    </tr>\n",
              "  </thead>\n",
              "  <tbody>\n",
              "    <tr>\n",
              "      <th>0</th>\n",
              "      <td>26/03/22</td>\n",
              "      <td>7:30</td>\n",
              "      <td>PM</td>\n",
              "      <td>Chennai Super Kings</td>\n",
              "      <td>Kolkata Knight Riders</td>\n",
              "      <td>Wankhede Stadium</td>\n",
              "    </tr>\n",
              "    <tr>\n",
              "      <th>1</th>\n",
              "      <td>27/03/22</td>\n",
              "      <td>3:30</td>\n",
              "      <td>PM</td>\n",
              "      <td>Delhi Capitals</td>\n",
              "      <td>Mumbai Indians</td>\n",
              "      <td>Brabourne - CCI</td>\n",
              "    </tr>\n",
              "    <tr>\n",
              "      <th>2</th>\n",
              "      <td>27/03/22</td>\n",
              "      <td>7:30</td>\n",
              "      <td>PM</td>\n",
              "      <td>Punjab Kings</td>\n",
              "      <td>Royal Challengers Bangalore</td>\n",
              "      <td>DY Patil Stadium</td>\n",
              "    </tr>\n",
              "    <tr>\n",
              "      <th>3</th>\n",
              "      <td>28/03/22</td>\n",
              "      <td>7:30</td>\n",
              "      <td>PM</td>\n",
              "      <td>Gujarat Titans</td>\n",
              "      <td>Lucknow Super Giants</td>\n",
              "      <td>Wankhede Stadium</td>\n",
              "    </tr>\n",
              "    <tr>\n",
              "      <th>4</th>\n",
              "      <td>29/03/22</td>\n",
              "      <td>7:30</td>\n",
              "      <td>PM</td>\n",
              "      <td>Sunrisers Hyderabad</td>\n",
              "      <td>Rajasthan Royals</td>\n",
              "      <td>MCA Stadium, Pune</td>\n",
              "    </tr>\n",
              "    <tr>\n",
              "      <th>...</th>\n",
              "      <td>...</td>\n",
              "      <td>...</td>\n",
              "      <td>...</td>\n",
              "      <td>...</td>\n",
              "      <td>...</td>\n",
              "      <td>...</td>\n",
              "    </tr>\n",
              "    <tr>\n",
              "      <th>65</th>\n",
              "      <td>18/05/22</td>\n",
              "      <td>7:30</td>\n",
              "      <td>PM</td>\n",
              "      <td>Kolkata Knight Riders</td>\n",
              "      <td>Lucknow Super Giants</td>\n",
              "      <td>DY Patil Stadium</td>\n",
              "    </tr>\n",
              "    <tr>\n",
              "      <th>66</th>\n",
              "      <td>19/05/22</td>\n",
              "      <td>7:30</td>\n",
              "      <td>PM</td>\n",
              "      <td>Royal Challengers Bangalore</td>\n",
              "      <td>Gujarat Titans</td>\n",
              "      <td>Wankhede Stadium</td>\n",
              "    </tr>\n",
              "    <tr>\n",
              "      <th>67</th>\n",
              "      <td>20/05/22</td>\n",
              "      <td>7:30</td>\n",
              "      <td>PM</td>\n",
              "      <td>Rajasthan Royals</td>\n",
              "      <td>Chennai Super Kings</td>\n",
              "      <td>Brabourne - CCI</td>\n",
              "    </tr>\n",
              "    <tr>\n",
              "      <th>68</th>\n",
              "      <td>21/05/22</td>\n",
              "      <td>7:30</td>\n",
              "      <td>PM</td>\n",
              "      <td>Mumbai Indians</td>\n",
              "      <td>Delhi Capitals</td>\n",
              "      <td>Wankhede Stadium</td>\n",
              "    </tr>\n",
              "    <tr>\n",
              "      <th>69</th>\n",
              "      <td>22/05/22</td>\n",
              "      <td>7:30</td>\n",
              "      <td>PM</td>\n",
              "      <td>Sunrisers Hyderabad</td>\n",
              "      <td>Punjab Kings</td>\n",
              "      <td>Wankhede Stadium</td>\n",
              "    </tr>\n",
              "  </tbody>\n",
              "</table>\n",
              "<p>70 rows × 6 columns</p>\n",
              "</div>"
            ],
            "text/plain": [
              "        DATE  TIME PM/AM                    HOME TEAM  \\\n",
              "0   26/03/22  7:30    PM          Chennai Super Kings   \n",
              "1   27/03/22  3:30    PM               Delhi Capitals   \n",
              "2   27/03/22  7:30    PM                 Punjab Kings   \n",
              "3   28/03/22  7:30    PM               Gujarat Titans   \n",
              "4   29/03/22  7:30    PM          Sunrisers Hyderabad   \n",
              "..       ...   ...   ...                          ...   \n",
              "65  18/05/22  7:30    PM        Kolkata Knight Riders   \n",
              "66  19/05/22  7:30    PM  Royal Challengers Bangalore   \n",
              "67  20/05/22  7:30    PM             Rajasthan Royals   \n",
              "68  21/05/22  7:30    PM               Mumbai Indians   \n",
              "69  22/05/22  7:30    PM          Sunrisers Hyderabad   \n",
              "\n",
              "                      AWAY TEAM              VENUE  \n",
              "0         Kolkata Knight Riders   Wankhede Stadium  \n",
              "1                Mumbai Indians    Brabourne - CCI  \n",
              "2   Royal Challengers Bangalore   DY Patil Stadium  \n",
              "3          Lucknow Super Giants   Wankhede Stadium  \n",
              "4              Rajasthan Royals  MCA Stadium, Pune  \n",
              "..                          ...                ...  \n",
              "65         Lucknow Super Giants   DY Patil Stadium  \n",
              "66               Gujarat Titans   Wankhede Stadium  \n",
              "67          Chennai Super Kings    Brabourne - CCI  \n",
              "68               Delhi Capitals   Wankhede Stadium  \n",
              "69                 Punjab Kings   Wankhede Stadium  \n",
              "\n",
              "[70 rows x 6 columns]"
            ]
          },
          "execution_count": 6,
          "metadata": {},
          "output_type": "execute_result"
        }
      ],
      "source": [
        "import pandas as pd\n",
        "df = pd.read_csv(\"schedule.csv\")\n",
        "df"
      ]
    },
    {
      "cell_type": "code",
      "execution_count": null,
      "id": "0f4a963c-9c0a-41a2-9a8b-3bc6e164bbcd",
      "metadata": {
        "id": "0f4a963c-9c0a-41a2-9a8b-3bc6e164bbcd"
      },
      "outputs": [],
      "source": [
        "\n",
        "sql2 = '''COPY ipl(Date,Time,Home_Team,Away_Team,Venue)\n",
        "FROM '/schedule.csv'\n",
        "DELIMITER ','\n",
        "CSV HEADER;'''\n",
        "\n",
        "try:\n",
        "    cursor.execute(sql2)\n",
        "    connection.commit()\n",
        "except:\n",
        "    connection.rollback()"
      ]
    }
  ],
  "metadata": {
    "kernelspec": {
      "display_name": "Python 3.8.10 64-bit",
      "language": "python",
      "name": "python3810jvsc74a57bd031f2aee4e71d21fbe5cf8b01ff0e069b9275f58929596ceb00d14d90e3e16cd6"
    },
    "language_info": {
      "codemirror_mode": {
        "name": "ipython",
        "version": 3
      },
      "file_extension": ".py",
      "mimetype": "text/x-python",
      "name": "python",
      "nbconvert_exporter": "python",
      "pygments_lexer": "ipython3",
      "version": "3.8.10"
    },
    "colab": {
      "name": "1.ipynb",
      "provenance": [],
      "collapsed_sections": []
    }
  },
  "nbformat": 4,
  "nbformat_minor": 5
}